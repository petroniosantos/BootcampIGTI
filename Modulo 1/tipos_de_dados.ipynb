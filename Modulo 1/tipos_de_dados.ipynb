{
  "nbformat": 4,
  "nbformat_minor": 0,
  "metadata": {
    "colab": {
      "name": "tipos_de_dados.ipynb",
      "provenance": []
    },
    "kernelspec": {
      "name": "python3",
      "display_name": "Python 3"
    }
  },
  "cells": [
    {
      "cell_type": "code",
      "metadata": {
        "id": "ybW4YF5CHaw1",
        "colab_type": "code",
        "colab": {
          "base_uri": "https://localhost:8080/",
          "height": 34
        },
        "outputId": "8e7b0dfe-f262-4ef8-dcf1-d04324fd78aa"
      },
      "source": [
        "#atribuição de valores\n",
        "\n",
        "#<indentificador>=<expressão>\n",
        "\n",
        "cateto_a = 4\n",
        "endereco = id(cateto_a)\n",
        "print(endereco)"
      ],
      "execution_count": 4,
      "outputs": [
        {
          "output_type": "stream",
          "text": [
            "10914592\n"
          ],
          "name": "stdout"
        }
      ]
    },
    {
      "cell_type": "code",
      "metadata": {
        "id": "RzjGyODHH2xF",
        "colab_type": "code",
        "colab": {
          "base_uri": "https://localhost:8080/",
          "height": 34
        },
        "outputId": "956a2733-bfff-48bc-859e-ef2a78337632"
      },
      "source": [
        "hexa_endereco = hex(endereco)\n",
        "print(hexa_endereco)"
      ],
      "execution_count": 5,
      "outputs": [
        {
          "output_type": "stream",
          "text": [
            "0xa68b20\n"
          ],
          "name": "stdout"
        }
      ]
    },
    {
      "cell_type": "markdown",
      "metadata": {
        "id": "TDlZYhLCICWc",
        "colab_type": "text"
      },
      "source": [
        "cateto_ a            0xa68b20 -----> 4"
      ]
    },
    {
      "cell_type": "code",
      "metadata": {
        "id": "t2d6-VYUIMUG",
        "colab_type": "code",
        "colab": {
          "base_uri": "https://localhost:8080/",
          "height": 51
        },
        "outputId": "8e9cfd31-9cc4-4b05-e176-a7c5e81fed97"
      },
      "source": [
        "# a = 10\n",
        "a = 10\n",
        "print(a)\n",
        "print(id(a))"
      ],
      "execution_count": 6,
      "outputs": [
        {
          "output_type": "stream",
          "text": [
            "10\n",
            "10914784\n"
          ],
          "name": "stdout"
        }
      ]
    },
    {
      "cell_type": "markdown",
      "metadata": {
        "id": "zaXvly3GIx-t",
        "colab_type": "text"
      },
      "source": [
        "Variável                                         Objeto\n",
        "   a         ------------------------------>       10\n",
        "                      Referência\n",
        "\n"
      ]
    },
    {
      "cell_type": "code",
      "metadata": {
        "id": "vsx9uTvWI_3F",
        "colab_type": "code",
        "colab": {
          "base_uri": "https://localhost:8080/",
          "height": 51
        },
        "outputId": "a4d7d9b3-4d38-4db9-e2fb-db31915b2dfd"
      },
      "source": [
        "b = 10\n",
        "print(b)\n",
        "print(id(b))"
      ],
      "execution_count": 7,
      "outputs": [
        {
          "output_type": "stream",
          "text": [
            "10\n",
            "10914784\n"
          ],
          "name": "stdout"
        }
      ]
    },
    {
      "cell_type": "markdown",
      "metadata": {
        "id": "kTbh5G4nJZE-",
        "colab_type": "text"
      },
      "source": [
        "Variável                                         Objeto\n",
        "   a         ------------------------------>       10\n",
        "                      Referência              \n",
        "   b         ---------------------------------------"
      ]
    },
    {
      "cell_type": "code",
      "metadata": {
        "id": "Sj4n_bpiJlDT",
        "colab_type": "code",
        "colab": {
          "base_uri": "https://localhost:8080/",
          "height": 34
        },
        "outputId": "41156416-882e-4804-b859-81084be9bdb0"
      },
      "source": [
        "# verificando se os id de a e b são os mesmos\n",
        "id(a) == id(b)"
      ],
      "execution_count": 8,
      "outputs": [
        {
          "output_type": "execute_result",
          "data": {
            "text/plain": [
              "True"
            ]
          },
          "metadata": {
            "tags": []
          },
          "execution_count": 8
        }
      ]
    },
    {
      "cell_type": "code",
      "metadata": {
        "id": "w_cTKhyVJwzU",
        "colab_type": "code",
        "colab": {
          "base_uri": "https://localhost:8080/",
          "height": 51
        },
        "outputId": "1d672f33-e144-4a37-d87e-3c65c3b6580e"
      },
      "source": [
        "a = 10\n",
        "b = a\n",
        "print(a)\n",
        "print(b)"
      ],
      "execution_count": 9,
      "outputs": [
        {
          "output_type": "stream",
          "text": [
            "10\n",
            "10\n"
          ],
          "name": "stdout"
        }
      ]
    },
    {
      "cell_type": "markdown",
      "metadata": {
        "id": "CkFGDdV4KB9s",
        "colab_type": "text"
      },
      "source": [
        "Variável                                         Objeto\n",
        "   a         ------------------------------>       10\n",
        "                      Referência              \n",
        "   b         ---------------------------------------"
      ]
    },
    {
      "cell_type": "code",
      "metadata": {
        "id": "D5IQKL2BKERZ",
        "colab_type": "code",
        "colab": {
          "base_uri": "https://localhost:8080/",
          "height": 34
        },
        "outputId": "58926aa3-d625-4590-b670-5670adc49e55"
      },
      "source": [
        "# verificando se os id de a e b são os mesmos\n",
        "id(a) == id(b)"
      ],
      "execution_count": 10,
      "outputs": [
        {
          "output_type": "execute_result",
          "data": {
            "text/plain": [
              "True"
            ]
          },
          "metadata": {
            "tags": []
          },
          "execution_count": 10
        }
      ]
    },
    {
      "cell_type": "code",
      "metadata": {
        "id": "8eq2xZN4KKWE",
        "colab_type": "code",
        "colab": {
          "base_uri": "https://localhost:8080/",
          "height": 85
        },
        "outputId": "a703baa0-c6a8-4267-fd0f-08d3bf7cf9ac"
      },
      "source": [
        "# atribuindo novos valores\n",
        "a = 10\n",
        "b = 10\n",
        "print(a)\n",
        "print(b)\n",
        "id(a) == id(b)\n",
        "b = 30\n",
        "print(b)\n",
        "id(a) == id(b)"
      ],
      "execution_count": 11,
      "outputs": [
        {
          "output_type": "stream",
          "text": [
            "10\n",
            "10\n",
            "30\n"
          ],
          "name": "stdout"
        },
        {
          "output_type": "execute_result",
          "data": {
            "text/plain": [
              "False"
            ]
          },
          "metadata": {
            "tags": []
          },
          "execution_count": 11
        }
      ]
    },
    {
      "cell_type": "markdown",
      "metadata": {
        "id": "mSscHNLgKnQW",
        "colab_type": "text"
      },
      "source": [
        "Variável                                         Objeto\n",
        "   a         ------------------------------>       10\n",
        "                      Referência              \n",
        "   b         ------------------------------>       30"
      ]
    },
    {
      "cell_type": "code",
      "metadata": {
        "id": "QPMM9wDEKvtk",
        "colab_type": "code",
        "colab": {
          "base_uri": "https://localhost:8080/",
          "height": 34
        },
        "outputId": "78b5948a-86b2-443a-c984-b2acdc7d3ea1"
      },
      "source": [
        "# atribuição de valores\n",
        "x = 1\n",
        "endereco = id(x)\n",
        "print(hex(endereco))"
      ],
      "execution_count": 12,
      "outputs": [
        {
          "output_type": "stream",
          "text": [
            "0xa68ac0\n"
          ],
          "name": "stdout"
        }
      ]
    },
    {
      "cell_type": "code",
      "metadata": {
        "id": "Z7dXFENULDXd",
        "colab_type": "code",
        "colab": {
          "base_uri": "https://localhost:8080/",
          "height": 34
        },
        "outputId": "7f6d9329-eb07-4130-f201-b9af500b5450"
      },
      "source": [
        "# atribuindo valores\n",
        "x = x + 1\n",
        "endereco = id(x)\n",
        "print(hex(endereco))"
      ],
      "execution_count": 13,
      "outputs": [
        {
          "output_type": "stream",
          "text": [
            "0xa68ae0\n"
          ],
          "name": "stdout"
        }
      ]
    },
    {
      "cell_type": "markdown",
      "metadata": {
        "id": "oQiq3bvsLUTA",
        "colab_type": "text"
      },
      "source": [
        "Garbage Collector\n",
        "\n",
        "\n",
        "x    0xa68ac0 ----->  1 + 1  )\n",
        "          -           -\n",
        "           -         -\n",
        "            -       -\n",
        "             -     -\n",
        "                2"
      ]
    },
    {
      "cell_type": "markdown",
      "metadata": {
        "id": "r4PiGD7fMiOK",
        "colab_type": "text"
      },
      "source": [
        "Numéricos"
      ]
    },
    {
      "cell_type": "code",
      "metadata": {
        "id": "AJDZXcoVMYfn",
        "colab_type": "code",
        "colab": {
          "base_uri": "https://localhost:8080/",
          "height": 102
        },
        "outputId": "d5ffef0f-7025-4877-93e0-fea85d035b66"
      },
      "source": [
        "# demonstrando dados numéricos\n",
        "a = 5\n",
        "print(\"Tipo de dados de a: \", type(a))\n",
        "\n",
        "b = 5.0\n",
        "print(\"\\nTipo de dados de b: \", type(b))\n",
        "\n",
        "c = 2 + 4j\n",
        "print(\"\\nTipo de dados de c: \", type(c))"
      ],
      "execution_count": 14,
      "outputs": [
        {
          "output_type": "stream",
          "text": [
            "Tipo de dados de a:  <class 'int'>\n",
            "\n",
            "Tipo de dados de b:  <class 'float'>\n",
            "\n",
            "Tipo de dados de c:  <class 'complex'>\n"
          ],
          "name": "stdout"
        }
      ]
    },
    {
      "cell_type": "markdown",
      "metadata": {
        "id": "oNuW1Hr2NTG_",
        "colab_type": "text"
      },
      "source": [
        "String"
      ]
    },
    {
      "cell_type": "code",
      "metadata": {
        "id": "daVBe1s5NU7F",
        "colab_type": "code",
        "colab": {
          "base_uri": "https://localhost:8080/",
          "height": 51
        },
        "outputId": "06819484-daac-4289-e3eb-8cbd08040cea"
      },
      "source": [
        "# Criando uma string\n",
        "\n",
        "string1 = 'Fundamentos de Python no IGTI'\n",
        "print(\"String com aspas simples: \")\n",
        "print(string1)"
      ],
      "execution_count": 15,
      "outputs": [
        {
          "output_type": "stream",
          "text": [
            "String com aspas simples: \n",
            "Fundamentos de Python no IGTI\n"
          ],
          "name": "stdout"
        }
      ]
    },
    {
      "cell_type": "code",
      "metadata": {
        "id": "AtWf2Ntfa8Wr",
        "colab_type": "code",
        "colab": {
          "base_uri": "https://localhost:8080/",
          "height": 68
        },
        "outputId": "384be722-5ef7-4893-b805-8f7ab5575480"
      },
      "source": [
        "# String com aspas duplas\n",
        "\n",
        "string1 = \"Fundamentos de Python IGTI\"\n",
        "print(\"String com aspas duplas: \")\n",
        "print(string1)\n",
        "print(type(string1))"
      ],
      "execution_count": 16,
      "outputs": [
        {
          "output_type": "stream",
          "text": [
            "String com aspas duplas: \n",
            "Fundamentos de Python IGTI\n",
            "<class 'str'>\n"
          ],
          "name": "stdout"
        }
      ]
    },
    {
      "cell_type": "code",
      "metadata": {
        "id": "soNefDS6bc-h",
        "colab_type": "code",
        "colab": {
          "base_uri": "https://localhost:8080/",
          "height": 68
        },
        "outputId": "af71daa6-a546-4efa-a674-ffeed4914f32"
      },
      "source": [
        "# String com aspas triplas\n",
        "\n",
        "string1 = '''Fundamentos de Python no IGTI'''\n",
        "print(\"String com aspas triplas: \")\n",
        "print(string1)\n",
        "print(type(string1))"
      ],
      "execution_count": 17,
      "outputs": [
        {
          "output_type": "stream",
          "text": [
            "String com aspas triplas: \n",
            "Fundamentos de Python no IGTI\n",
            "<class 'str'>\n"
          ],
          "name": "stdout"
        }
      ]
    },
    {
      "cell_type": "code",
      "metadata": {
        "id": "v3J2N8GJcAA8",
        "colab_type": "code",
        "colab": {
          "base_uri": "https://localhost:8080/",
          "height": 85
        },
        "outputId": "96fd3e71-da77-495c-a912-916a6199182f"
      },
      "source": [
        "# Aspas triplas em multiplas linhas\n",
        "\n",
        "string1 = '''Fundamentos de Python\n",
        "            do\n",
        "            IGTI'''\n",
        "print(\"String com multiplas linha: \")\n",
        "print(string1)"
      ],
      "execution_count": 18,
      "outputs": [
        {
          "output_type": "stream",
          "text": [
            "String com multiplas linha: \n",
            "Fundamentos de Python\n",
            "            do\n",
            "            IGTI\n"
          ],
          "name": "stdout"
        }
      ]
    },
    {
      "cell_type": "markdown",
      "metadata": {
        "id": "Bp3fow7oclIB",
        "colab_type": "text"
      },
      "source": [
        "Acessando Elementos de uma String\n",
        "\n",
        "  I   N   S   T  I   T  U  T  O  I  G  T  I\n",
        "  0   1   2   3  4   5  6  7  8  9  10 11 12\n",
        "-13 -12 -11 -10 -9 - 8 -7 -6 -5 -4 -3 -2 -1"
      ]
    },
    {
      "cell_type": "code",
      "metadata": {
        "id": "cLyLHm-6coeh",
        "colab_type": "code",
        "colab": {
          "base_uri": "https://localhost:8080/",
          "height": 51
        },
        "outputId": "3c3f25cd-6ecc-491a-8ea9-e60d0f4c93f8"
      },
      "source": [
        "# Criando a String\n",
        "\n",
        "string1 = \"InstitutoIGTI\"\n",
        "print(\"String: \")\n",
        "print(string1)"
      ],
      "execution_count": 19,
      "outputs": [
        {
          "output_type": "stream",
          "text": [
            "String: \n",
            "InstitutoIGTI\n"
          ],
          "name": "stdout"
        }
      ]
    },
    {
      "cell_type": "code",
      "metadata": {
        "id": "oTsWjad4dxXS",
        "colab_type": "code",
        "colab": {
          "base_uri": "https://localhost:8080/",
          "height": 51
        },
        "outputId": "0454c7f7-57ba-4dfb-f696-04eb0265c77d"
      },
      "source": [
        "# Print do primeiro caracter\n",
        "\n",
        "print(\"O primeiro caracter da string é: \")\n",
        "print(string1[0])"
      ],
      "execution_count": 20,
      "outputs": [
        {
          "output_type": "stream",
          "text": [
            "O primeiro caracter da string é: \n",
            "I\n"
          ],
          "name": "stdout"
        }
      ]
    },
    {
      "cell_type": "code",
      "metadata": {
        "id": "fhVR6bFGeCYQ",
        "colab_type": "code",
        "colab": {
          "base_uri": "https://localhost:8080/",
          "height": 51
        },
        "outputId": "e792653a-8c04-41b4-bdb3-2eddf50833c6"
      },
      "source": [
        "# Printing último caracter\n",
        "\n",
        "print(\"O último caracter\")\n",
        "print(string1[-1])"
      ],
      "execution_count": 21,
      "outputs": [
        {
          "output_type": "stream",
          "text": [
            "O último caracter\n",
            "I\n"
          ],
          "name": "stdout"
        }
      ]
    },
    {
      "cell_type": "markdown",
      "metadata": {
        "id": "7JTM3ml_eOnX",
        "colab_type": "text"
      },
      "source": [
        "Deletenado ou realizando o update de uma String"
      ]
    },
    {
      "cell_type": "code",
      "metadata": {
        "id": "0r9D8gwPeTyx",
        "colab_type": "code",
        "colab": {
          "base_uri": "https://localhost:8080/",
          "height": 51
        },
        "outputId": "5b678ee5-d60f-4c24-c679-0a5683e446e0"
      },
      "source": [
        "# Criando a nossa string\n",
        "\n",
        "string1 = \"Programação Python no IGIT\"\n",
        "print(\"String inicial: \")\n",
        "print(string1)"
      ],
      "execution_count": 22,
      "outputs": [
        {
          "output_type": "stream",
          "text": [
            "String inicial: \n",
            "Programação Python no IGIT\n"
          ],
          "name": "stdout"
        }
      ]
    },
    {
      "cell_type": "code",
      "metadata": {
        "id": "sDWLCcTSemXy",
        "colab_type": "code",
        "colab": {
          "base_uri": "https://localhost:8080/",
          "height": 248
        },
        "outputId": "283f9df8-5424-442a-82d8-deec3d2c8d17"
      },
      "source": [
        "# Realizando o update de um caracter da String 1\n",
        "\n",
        "print('Caracter da posição 2: ', string1[2])\n",
        "string1[2] = 'p'\n",
        "print(\"Realizando o update para o caracter de posição (indice) [2]\")\n",
        "print(string1)"
      ],
      "execution_count": 23,
      "outputs": [
        {
          "output_type": "stream",
          "text": [
            "Caracter da posição 2:  o\n"
          ],
          "name": "stdout"
        },
        {
          "output_type": "error",
          "ename": "TypeError",
          "evalue": "ignored",
          "traceback": [
            "\u001b[0;31m---------------------------------------------------------------------------\u001b[0m",
            "\u001b[0;31mTypeError\u001b[0m                                 Traceback (most recent call last)",
            "\u001b[0;32m<ipython-input-23-c72ffdfb74f9>\u001b[0m in \u001b[0;36m<module>\u001b[0;34m()\u001b[0m\n\u001b[1;32m      2\u001b[0m \u001b[0;34m\u001b[0m\u001b[0m\n\u001b[1;32m      3\u001b[0m \u001b[0mprint\u001b[0m\u001b[0;34m(\u001b[0m\u001b[0;34m'Caracter da posição 2: '\u001b[0m\u001b[0;34m,\u001b[0m \u001b[0mstring1\u001b[0m\u001b[0;34m[\u001b[0m\u001b[0;36m2\u001b[0m\u001b[0;34m]\u001b[0m\u001b[0;34m)\u001b[0m\u001b[0;34m\u001b[0m\u001b[0;34m\u001b[0m\u001b[0m\n\u001b[0;32m----> 4\u001b[0;31m \u001b[0mstring1\u001b[0m\u001b[0;34m[\u001b[0m\u001b[0;36m2\u001b[0m\u001b[0;34m]\u001b[0m \u001b[0;34m=\u001b[0m \u001b[0;34m'p'\u001b[0m\u001b[0;34m\u001b[0m\u001b[0;34m\u001b[0m\u001b[0m\n\u001b[0m\u001b[1;32m      5\u001b[0m \u001b[0mprint\u001b[0m\u001b[0;34m(\u001b[0m\u001b[0;34m\"Realizando o update para o caracter de posição (indice) [2]\"\u001b[0m\u001b[0;34m)\u001b[0m\u001b[0;34m\u001b[0m\u001b[0;34m\u001b[0m\u001b[0m\n\u001b[1;32m      6\u001b[0m \u001b[0mprint\u001b[0m\u001b[0;34m(\u001b[0m\u001b[0mstring1\u001b[0m\u001b[0;34m)\u001b[0m\u001b[0;34m\u001b[0m\u001b[0;34m\u001b[0m\u001b[0m\n",
            "\u001b[0;31mTypeError\u001b[0m: 'str' object does not support item assignment"
          ]
        }
      ]
    },
    {
      "cell_type": "code",
      "metadata": {
        "id": "l5qWgBUpfc2S",
        "colab_type": "code",
        "colab": {}
      },
      "source": [
        "# Deletando um caracter da String\n",
        "\n",
        "del string1[2]\n",
        "print(\"Deletando o caracter da posição 2: \")\n",
        "print(string1)"
      ],
      "execution_count": null,
      "outputs": []
    },
    {
      "cell_type": "markdown",
      "metadata": {
        "id": "7aEX4_WuftIR",
        "colab_type": "text"
      },
      "source": [
        "Utilizando 'aspas' em Strings"
      ]
    },
    {
      "cell_type": "code",
      "metadata": {
        "id": "ja4CQzN0fyA6",
        "colab_type": "code",
        "colab": {}
      },
      "source": [
        "# String inicial\n",
        "\n",
        "string1 = '''O IGTI possui \"bootcamp\" e \"MBA\" em TI'''\n",
        "print(\"String inicial com aspas triplas: \")\n",
        "print(string1)"
      ],
      "execution_count": null,
      "outputs": []
    },
    {
      "cell_type": "code",
      "metadata": {
        "id": "dIWx6bRBgRzS",
        "colab_type": "code",
        "colab": {}
      },
      "source": [
        "# Realizando o print das aspas simples\n",
        "\n",
        "string1 = 'O IGTI possui \"bootcamp\" e \\'MBA\\'em TI'\n",
        "print(\"Realizando o print da string com aspas simples\")\n",
        "print(string1)"
      ],
      "execution_count": null,
      "outputs": []
    },
    {
      "cell_type": "code",
      "metadata": {
        "id": "vrbhib16gttp",
        "colab_type": "code",
        "colab": {}
      },
      "source": [
        "# Realizando o print de aspas duplas\n",
        "\n",
        "string1 = \"O IGTI possui \\\"bootcamp\\\" e 'MBA' em TI\"\n",
        "print(\"Realizando o print da string com aspas duplas: \")\n",
        "print(string1)"
      ],
      "execution_count": null,
      "outputs": []
    },
    {
      "cell_type": "code",
      "metadata": {
        "id": "4JxEqxBvhIvp",
        "colab_type": "code",
        "colab": {}
      },
      "source": [
        "# Cria um número inteiro\n",
        "\n",
        "n_inteiro = 100\n",
        "type(n_inteiro)"
      ],
      "execution_count": null,
      "outputs": []
    },
    {
      "cell_type": "code",
      "metadata": {
        "id": "MVCzPmlrhS-S",
        "colab_type": "code",
        "colab": {}
      },
      "source": [
        "# Transforma o número inteiro em string\n",
        "\n",
        "string_n_inteiro = str(n_inteiro)\n",
        "type(string_n_inteiro)"
      ],
      "execution_count": null,
      "outputs": []
    },
    {
      "cell_type": "code",
      "metadata": {
        "id": "U3evWQ36hjyK",
        "colab_type": "code",
        "colab": {}
      },
      "source": [
        "print(int(string_n_inteiro))\n",
        "type(int(string_n_inteiro))"
      ],
      "execution_count": null,
      "outputs": []
    },
    {
      "cell_type": "markdown",
      "metadata": {
        "id": "hpyc6hk8hyey",
        "colab_type": "text"
      },
      "source": [
        "Listas"
      ]
    },
    {
      "cell_type": "markdown",
      "metadata": {
        "id": "9by9VPEDosPA",
        "colab_type": "text"
      },
      "source": [
        "1. Mutáveis\n",
        "2. Podem possuir vários tipos de elementos\n",
        "3. Ordenadas\n",
        "4. Começam com o indice [0]"
      ]
    },
    {
      "cell_type": "code",
      "metadata": {
        "id": "cV8gz2Pzo8Jv",
        "colab_type": "code",
        "colab": {}
      },
      "source": [
        "# Criando uma lista em python\n",
        "\n",
        "lista = []\n",
        "print(\"Lista vazia: \")\n",
        "print(lista)\n",
        "print(type(lista))"
      ],
      "execution_count": null,
      "outputs": []
    },
    {
      "cell_type": "code",
      "metadata": {
        "id": "LegZvgVypLr_",
        "colab_type": "code",
        "colab": {}
      },
      "source": [
        "# Lista com uma string\n",
        "\n",
        "lista = ['IGTI']\n",
        "print(\"Lista de uma string: \")\n",
        "print(lista)"
      ],
      "execution_count": null,
      "outputs": []
    },
    {
      "cell_type": "code",
      "metadata": {
        "id": "N0WkJgznpaTP",
        "colab_type": "code",
        "colab": {}
      },
      "source": [
        "# Lista com vários valores\n",
        "\n",
        "lista = [\"IGTI\", \"MBA\", \"Python\"]\n",
        "print(\"Lista com várias string: \")\n",
        "print(lista[0])\n",
        "print(lista[2])"
      ],
      "execution_count": null,
      "outputs": []
    },
    {
      "cell_type": "code",
      "metadata": {
        "id": "xCHeVodIpzOH",
        "colab_type": "code",
        "colab": {}
      },
      "source": [
        "# Criando lista de listas\n",
        "\n",
        "lista = [['IGTI', 'MBA'], ['Python']]\n",
        "print(\"Lista com várias dimensões: \")\n",
        "print(lista)"
      ],
      "execution_count": null,
      "outputs": []
    },
    {
      "cell_type": "code",
      "metadata": {
        "id": "zFz8LQ3oqHAx",
        "colab_type": "code",
        "colab": {}
      },
      "source": [
        "# Criando uma lista com tipos diferentes de dados\n",
        "\n",
        "lista = [['IGTI', 'MBA'], 123, 'Python']\n",
        "print(\"Lista com várias dimensões e valores: \")\n",
        "print(lista)"
      ],
      "execution_count": null,
      "outputs": []
    },
    {
      "cell_type": "markdown",
      "metadata": {
        "id": "xCouu4q7qf6_",
        "colab_type": "text"
      },
      "source": [
        "Adicionando elementos em uma lista\n",
        "\n",
        "          final\n",
        "[1, 2, 3, 4]\n",
        "           5\n",
        "\n",
        "\n",
        "\n",
        "1. Adiciona um elemento de cada vez\n",
        "2. Adiciona ao final da lista"
      ]
    },
    {
      "cell_type": "code",
      "metadata": {
        "id": "gzTOJeuuq6gD",
        "colab_type": "code",
        "colab": {}
      },
      "source": [
        "# Adicionando elemento com append\n",
        "\n",
        "lista = [1, 2, 3, 4]\n",
        "print('Lista numérica: ', lista)"
      ],
      "execution_count": null,
      "outputs": []
    },
    {
      "cell_type": "code",
      "metadata": {
        "id": "auK-NtYqrLZ8",
        "colab_type": "code",
        "colab": {}
      },
      "source": [
        "# Adicionando elemento com append\n",
        "\n",
        "lista.append(5)\n",
        "print('Lista numérica: ', lista)"
      ],
      "execution_count": null,
      "outputs": []
    },
    {
      "cell_type": "code",
      "metadata": {
        "id": "I_dhOGN9rY64",
        "colab_type": "code",
        "colab": {}
      },
      "source": [
        "# Adicionando lelemento com append\n",
        "\n",
        "lista.append('IGTI')\n",
        "print('Lista numérica: ', lista)"
      ],
      "execution_count": null,
      "outputs": []
    },
    {
      "cell_type": "markdown",
      "metadata": {
        "id": "hYkQ35KUrtD3",
        "colab_type": "text"
      },
      "source": [
        "Adicionando elemento com insert()\n",
        "\n",
        "Azul     Verde     Vermelho     Amarelo\n",
        "[0]       [1]         [2]         [3]\n",
        "\n",
        "\n",
        ".lista.insert(posicao,valor)"
      ]
    },
    {
      "cell_type": "code",
      "metadata": {
        "id": "Tblpn_qQsYhf",
        "colab_type": "code",
        "colab": {}
      },
      "source": [
        "# Cria a lista vazia\n",
        "\n",
        "lista = []\n",
        "print(\"Lista vazia: \")\n",
        "print(lista)"
      ],
      "execution_count": null,
      "outputs": []
    },
    {
      "cell_type": "code",
      "metadata": {
        "id": "cZqnQ-Eismeq",
        "colab_type": "code",
        "colab": {}
      },
      "source": [
        "# Adiciona elementos para a lista com append\n",
        "\n",
        "lista.append('Azul')\n",
        "lista.append('Verde')\n",
        "lista.append('Vermelho')\n",
        "lista.append('Amarelo')\n",
        "print(\"Lista após adicionar as cores: \")\n",
        "print(lista)"
      ],
      "execution_count": null,
      "outputs": []
    },
    {
      "cell_type": "code",
      "metadata": {
        "id": "cpCooBrbs-c4",
        "colab_type": "code",
        "colab": {}
      },
      "source": [
        "# Adicionando elemento em uma posição especifica\n",
        "\n",
        "lista.insert(2, 'Preto')\n",
        "lista.insert(0, 'Rosa')\n",
        "print(\"Lista após adicionar elementos em uma posição específica: \")\n",
        "print(lista)"
      ],
      "execution_count": null,
      "outputs": []
    },
    {
      "cell_type": "markdown",
      "metadata": {
        "id": "w0QiuH8NthQh",
        "colab_type": "text"
      },
      "source": [
        "Adicionando elementos com o método extend()\n",
        "\n",
        ". Adiciona vários elementos de uma vez (diferente do append())"
      ]
    },
    {
      "cell_type": "code",
      "metadata": {
        "id": "Pdct9p8Ttnz4",
        "colab_type": "code",
        "colab": {}
      },
      "source": [
        "# Adicionando vários elementos com a função extebd (#008000 - verde) (#0008B - azul)\n",
        "\n",
        "lista.extend(['Branco', '#008000', '#00008B'])\n",
        "print(\"Lista após aplicar a operação extend(): \")\n",
        "print(lista)"
      ],
      "execution_count": null,
      "outputs": []
    },
    {
      "cell_type": "markdown",
      "metadata": {
        "id": "bqBZ7XOG1PP3",
        "colab_type": "text"
      },
      "source": [
        "Acessando elementos em uma lista\n",
        "\n",
        "\n",
        "1. Acessa com [indice]\n",
        "2. Indice deve ser inteiro\n",
        "3. Lista aninhadas devem ser acessadas através de indices aninhados"
      ]
    },
    {
      "cell_type": "code",
      "metadata": {
        "id": "mqAIz7qm1mjQ",
        "colab_type": "code",
        "colab": {}
      },
      "source": [
        "# Criando uma lista com multiplos valores\n",
        "\n",
        "lista = [\"Azul\", \"Verde\", \"Vermelho\", \"Amarelo\"]\n",
        "\n",
        "# Acessando um elemento da lista\n",
        "\n",
        "print(\"Acessando elementos na lista\")\n",
        "print(lista[0])\n",
        "print(lista[2])"
      ],
      "execution_count": null,
      "outputs": []
    },
    {
      "cell_type": "code",
      "metadata": {
        "id": "pc2vbKcK2JAi",
        "colab_type": "code",
        "colab": {}
      },
      "source": [
        "# Acessando elementos no \"sentido contrário\"\n",
        "\n",
        "print(\"Acessando elementos no sentido contrário: \")\n",
        "\n",
        "# Último elemento da lista\n",
        "\n",
        "print(lista[-1])\n",
        "\n",
        "# Penúltimo elemento da lista\n",
        "\n",
        "print(lista[-2])"
      ],
      "execution_count": null,
      "outputs": []
    },
    {
      "cell_type": "code",
      "metadata": {
        "id": "K_4_sXb02vSh",
        "colab_type": "code",
        "colab": {}
      },
      "source": [
        "# Acessando valores em listas aninhadas\n",
        "# Criando uma lista aninhada\n",
        "\n",
        "lista = [\"Azul\", \"Verde\", \"Vermelho\", \"Amarelo\", [100, 200, 300, 400]]\n",
        "\n",
        "# Acessando o elemento 200 da lista\n",
        "\n",
        "print(\"Acessando elementos na lista aninhada\")\n",
        "print(lista[4][1])"
      ],
      "execution_count": null,
      "outputs": []
    },
    {
      "cell_type": "markdown",
      "metadata": {
        "id": "56U_YcPz3TbM",
        "colab_type": "text"
      },
      "source": [
        "Removendo elementos de uma lista"
      ]
    },
    {
      "cell_type": "code",
      "metadata": {
        "id": "S9t3P1rH3Wqe",
        "colab_type": "code",
        "colab": {}
      },
      "source": [
        "# Criando uma lista com alguns elementos\n",
        "\n",
        "lista = [1, 2, 3, 4, 5, 6,\n",
        "         7, 8, 9, 10, 11, 12,\n",
        "         'Azul', 'Verde', 35, 'Amarelo']\n",
        "print(\"Lista inicial: \")\n",
        "print(lista)"
      ],
      "execution_count": null,
      "outputs": []
    },
    {
      "cell_type": "code",
      "metadata": {
        "id": "wrxs_pnZ39_j",
        "colab_type": "code",
        "colab": {}
      },
      "source": [
        "# Removendo elementos utilizando o remove\n",
        "\n",
        "lista.remove(5)\n",
        "lista.remove('Verde')\n",
        "print(\"Lista após remover os elementos: \")\n",
        "print(lista)"
      ],
      "execution_count": null,
      "outputs": []
    },
    {
      "cell_type": "code",
      "metadata": {
        "id": "HDCE4M3u4V_L",
        "colab_type": "code",
        "colab": {}
      },
      "source": [
        "# Removendo o último elemento com o pop()\n",
        "\n",
        "lista.pop()\n",
        "print(\"Lista após utilizar o pop(): \")\n",
        "print(lista)"
      ],
      "execution_count": null,
      "outputs": []
    },
    {
      "cell_type": "code",
      "metadata": {
        "id": "5hndKGES40wD",
        "colab_type": "code",
        "colab": {}
      },
      "source": [
        "# Removendo um elemento de uma posição específica com pop()\n",
        "\n",
        "lista.pop(11)\n",
        "print(\"Lista após remover um elemento específico: \")\n",
        "print(lista)"
      ],
      "execution_count": null,
      "outputs": []
    },
    {
      "cell_type": "markdown",
      "metadata": {
        "id": "pUJFGJya5M4-",
        "colab_type": "text"
      },
      "source": [
        "Tuplas\n",
        "\n",
        "\n",
        ". Imutáveis\n",
        ". Podem possuir vários tipos de elementos"
      ]
    },
    {
      "cell_type": "code",
      "metadata": {
        "id": "2WpY_UYVcLKS",
        "colab_type": "code",
        "colab": {}
      },
      "source": [
        "# Criando um tupla vazia\n",
        "\n",
        "tupla_1 = ()\n",
        "print(\"Tupla vazia: \")\n",
        "print(tupla_1)\n",
        "print(type(tupla_1))"
      ],
      "execution_count": null,
      "outputs": []
    },
    {
      "cell_type": "code",
      "metadata": {
        "id": "u3mmzUgpcq1K",
        "colab_type": "code",
        "colab": {}
      },
      "source": [
        "# Criando um tupla com string\n",
        "\n",
        "tupla_1 = ('IGTI', 'Python')\n",
        "print(\"Tupla utilizando string: \")\n",
        "print(tupla_1)"
      ],
      "execution_count": null,
      "outputs": []
    },
    {
      "cell_type": "code",
      "metadata": {
        "id": "VtfhDi5_dMGu",
        "colab_type": "code",
        "colab": {}
      },
      "source": [
        "# Criando uma tupla através de um lista\n",
        "\n",
        "lista_1 = [1, 2, 4, 5, 6]\n",
        "print(type(lista_1))\n",
        "print(\"Tupla através de uma lista: \")\n",
        "print(tuple(lista_1))\n",
        "print(type(tuple(lista_1)))"
      ],
      "execution_count": null,
      "outputs": []
    },
    {
      "cell_type": "code",
      "metadata": {
        "id": "86jSx3CNdhqn",
        "colab_type": "code",
        "colab": {}
      },
      "source": [
        "# Criando uma tupla através da palatra tuple()\n",
        "\n",
        "tupla_1 = tuple('IGTI')\n",
        "print(\"Tupla criada através da função tuple: \")\n",
        "print(tupla_1)"
      ],
      "execution_count": null,
      "outputs": []
    },
    {
      "cell_type": "code",
      "metadata": {
        "id": "aAE18SAdebhk",
        "colab_type": "code",
        "colab": {}
      },
      "source": [
        "# Criando tuplas aninhadas\n",
        "\n",
        "tupla_1 = (0, 1, 2, 3)\n",
        "tupla_2 = ('python', 'IGTI')\n",
        "tupla_3 = (tupla_1, tupla_2)\n",
        "print(\"Tuplas aninhadas: \")\n",
        "print(tupla_3)"
      ],
      "execution_count": null,
      "outputs": []
    },
    {
      "cell_type": "markdown",
      "metadata": {
        "id": "XGSjmUEBfFcf",
        "colab_type": "text"
      },
      "source": [
        "Acessando elementos em uma tupla"
      ]
    },
    {
      "cell_type": "code",
      "metadata": {
        "id": "WpYbKHD0fXOf",
        "colab_type": "code",
        "colab": {}
      },
      "source": [
        "# Criando uma tupla através da função\n",
        "\n",
        "tupla_1 = tuple([1, 2, 3, 4, 5])\n",
        "\n",
        "# Acessando o elemento através do índice\n",
        "\n",
        "print(\"Primeiro elemento da tupla\")\n",
        "print(tupla_1[0])\n",
        "\n",
        "# Acessando o último elemento da tupla\n",
        "\n",
        "print(\"Último elemento da tupla\")\n",
        "print(tupla_1[-1])\n",
        "\n",
        "print(\"Encontrado o penultimo elemendo da tupla\")\n",
        "print(tupla_1[-2])\n",
        "\n"
      ],
      "execution_count": null,
      "outputs": []
    },
    {
      "cell_type": "markdown",
      "metadata": {
        "id": "-WztKUtCiODL",
        "colab_type": "text"
      },
      "source": [
        "Deletando e atualizando elementos de uma tupla"
      ]
    },
    {
      "cell_type": "code",
      "metadata": {
        "id": "IFzUWxBkiSyx",
        "colab_type": "code",
        "colab": {}
      },
      "source": [
        "# Definindo uma tupla\n",
        "\n",
        "tupla_1 = tuple([1, 2, 3, 4, 5])\n",
        "print(\"Tupla inicial\")\n",
        "print(tupla_1)"
      ],
      "execution_count": null,
      "outputs": []
    },
    {
      "cell_type": "code",
      "metadata": {
        "id": "Bc6D-ciRi51y",
        "colab_type": "code",
        "colab": {}
      },
      "source": [
        "# Atualizando um valor da tupla\n",
        "\n",
        "tupla_1[0] = -1\n",
        "print(tupla_1)"
      ],
      "execution_count": null,
      "outputs": []
    },
    {
      "cell_type": "code",
      "metadata": {
        "id": "TQrdlFp7jzHo",
        "colab_type": "code",
        "colab": {}
      },
      "source": [
        "# Deletando um elemento de uma tupla\n",
        "\n",
        "del tupla_1[2]\n",
        "print(tupla_1)"
      ],
      "execution_count": null,
      "outputs": []
    },
    {
      "cell_type": "markdown",
      "metadata": {
        "id": "2IlrCyRDkiyI",
        "colab_type": "text"
      },
      "source": [
        "Valores Booleanos\n",
        "\n",
        "Verdadeiro ou Falso"
      ]
    },
    {
      "cell_type": "code",
      "metadata": {
        "id": "5N4xulwOkrKI",
        "colab_type": "code",
        "colab": {}
      },
      "source": [
        "# Mostrando os tipos de dados booleanos\n",
        "\n",
        "print(type(True)) # verdadeiro\n",
        "print(type(False))"
      ],
      "execution_count": null,
      "outputs": []
    },
    {
      "cell_type": "markdown",
      "metadata": {
        "id": "K6Bx2v-xBxAm",
        "colab_type": "text"
      },
      "source": [
        "Conjuntos\n",
        "\n",
        "\n",
        "\n",
        "A               B                      A                B\n",
        "      União                                Interseção\n",
        "\n",
        "\n",
        "                                                                A={1,2,3}\n",
        "                                                                B={3,4,5,}\n",
        "\n",
        "\n",
        "A               B                      A                B\n",
        "    Diferença                          Diferença Simétrica\n",
        "\n",
        "\n",
        "\n",
        "\n",
        ". Desordenada\n",
        ". Mutável\n",
        ". Sem elementos duplicados"
      ]
    },
    {
      "cell_type": "code",
      "metadata": {
        "id": "LH2iB8-wCjy5",
        "colab_type": "code",
        "colab": {}
      },
      "source": [
        "# Criando um conjunto - \"set\" em python\n",
        "\n",
        "conjunto_A = set()\n",
        "print(\"Conjunto vazio: \")\n",
        "print(conjunto_A)\n",
        "print(type(conjunto_A))"
      ],
      "execution_count": null,
      "outputs": []
    },
    {
      "cell_type": "code",
      "metadata": {
        "id": "cbSbmhHMC4li",
        "colab_type": "code",
        "colab": {}
      },
      "source": [
        "# Criando um conjunto via uma string\n",
        "\n",
        "conjunto_A = set(\"Python\")\n",
        "print(\"Conjunto com uma string: \")\n",
        "print(conjunto_A)"
      ],
      "execution_count": null,
      "outputs": []
    },
    {
      "cell_type": "code",
      "metadata": {
        "id": "pTtSS4vXDPcU",
        "colab_type": "code",
        "colab": {}
      },
      "source": [
        "# Criando utilizando uma lista\n",
        "\n",
        "conjunto_A = set([\"IGTI\", \"MBA\", \"IGTI\"]) # Como pode ver, na criação podem ter elementos iguais, mas o conjunto não contém os duplicados\n",
        "print(\"Conjunto via lista: \")\n",
        "print(conjunto_A)"
      ],
      "execution_count": null,
      "outputs": []
    },
    {
      "cell_type": "code",
      "metadata": {
        "id": "xDTv0WhUD_JO",
        "colab_type": "code",
        "colab": {}
      },
      "source": [
        "# Criando um conjunto com vários diferentes tipos\n",
        "\n",
        "conjunto_A = set([1, 2, 'IGTI', 4, 'BOOTCAMP', 6, 'MBA'])\n",
        "print(\"Conjunto com valores de tipos diferentes\")\n",
        "print(conjunto_A)"
      ],
      "execution_count": null,
      "outputs": []
    },
    {
      "cell_type": "markdown",
      "metadata": {
        "id": "CxMym90HEZSa",
        "colab_type": "text"
      },
      "source": [
        "Adicionando elementos a um conjunto"
      ]
    },
    {
      "cell_type": "code",
      "metadata": {
        "id": "ZtFQVXfMEW78",
        "colab_type": "code",
        "colab": {}
      },
      "source": [
        "# Criando um conjunto vazio\n",
        "\n",
        "conjunto_A = set()\n",
        "print(\"Conjunto vazio: \")\n",
        "print(conjunto_A)"
      ],
      "execution_count": null,
      "outputs": []
    },
    {
      "cell_type": "code",
      "metadata": {
        "id": "9wZWwxJ4E1v9",
        "colab_type": "code",
        "colab": {}
      },
      "source": [
        "# Adicionando elemento a um conjunto com o add() - adiciona apenas um elemento de cada vez\n",
        "\n",
        "conjunto_A.add(8)\n",
        "conjunto_A.add(9)\n",
        "conjunto_A.add((6, 7))\n",
        "print(\"Conjunto após a adição de valores: \")\n",
        "print(conjunto_A)"
      ],
      "execution_count": null,
      "outputs": []
    },
    {
      "cell_type": "code",
      "metadata": {
        "id": "FZMhyozqFkRb",
        "colab_type": "code",
        "colab": {}
      },
      "source": [
        "# Adicionando elementos através da função update\n",
        "\n",
        "conjunto_A.update([10, 11]) # Adicionando uma lista de elementos\n",
        "print(\"Adicionando valores ao conjunto com a função update(): \")\n",
        "print(conjunto_A)"
      ],
      "execution_count": null,
      "outputs": []
    },
    {
      "cell_type": "markdown",
      "metadata": {
        "id": "jXAgP67uGDB0",
        "colab_type": "text"
      },
      "source": [
        "Acessando elementos em um conjuto\n",
        "\n",
        "\n",
        "   . Como não são ordenados, não podemos acessar via indice"
      ]
    },
    {
      "cell_type": "code",
      "metadata": {
        "id": "4Q57TIBZGSNT",
        "colab_type": "code",
        "colab": {}
      },
      "source": [
        "# Criando um conjunto\n",
        "\n",
        "conjunto_A = set([\"IGTI\", \"BOOTCAMP\", \"PYTHON\"])\n",
        "print(\"Conjunto inicial: \")\n",
        "print(conjunto_A)"
      ],
      "execution_count": null,
      "outputs": []
    },
    {
      "cell_type": "code",
      "metadata": {
        "id": "KB0HTHeTG2yw",
        "colab_type": "code",
        "colab": {}
      },
      "source": [
        "# Acessando elementos através de um loop\n",
        "\n",
        "print(\"Elementos do conjunto A: \")\n",
        "for i in conjunto_A:\n",
        "  print(i, end = \" \")"
      ],
      "execution_count": null,
      "outputs": []
    },
    {
      "cell_type": "code",
      "metadata": {
        "id": "LTNYxc6PHhw3",
        "colab_type": "code",
        "colab": {}
      },
      "source": [
        "# Verificando se um elemento percente ao conjunto\n",
        "\n",
        "print(\"IGTI\" in conjunto_A)"
      ],
      "execution_count": null,
      "outputs": []
    },
    {
      "cell_type": "markdown",
      "metadata": {
        "id": "iJzhoC5KIdcT",
        "colab_type": "text"
      },
      "source": [
        "Removendo elementos de um conjunto"
      ]
    },
    {
      "cell_type": "code",
      "metadata": {
        "id": "4rHqf5hRIhgg",
        "colab_type": "code",
        "colab": {
          "base_uri": "https://localhost:8080/",
          "height": 51
        },
        "outputId": "2805ecf2-8792-479f-97de-bc208e6e5083"
      },
      "source": [
        "# Criando um conjunto\n",
        "\n",
        "conjunto_A = set([1, 2, 3, 4, 5, 6,\n",
        "                  7, 8, 9, 10, 11, 12])\n",
        "print(\"Conjunto inicial: \")\n",
        "print(conjunto_A)"
      ],
      "execution_count": 26,
      "outputs": [
        {
          "output_type": "stream",
          "text": [
            "Conjunto inicial: \n",
            "{1, 2, 3, 4, 5, 6, 7, 8, 9, 10, 11, 12}\n"
          ],
          "name": "stdout"
        }
      ]
    },
    {
      "cell_type": "code",
      "metadata": {
        "id": "bAKY7Zz9JNhH",
        "colab_type": "code",
        "colab": {
          "base_uri": "https://localhost:8080/",
          "height": 51
        },
        "outputId": "1114a322-b59c-4e79-a72d-c17deab4718f"
      },
      "source": [
        "# Removendo elementos um valor com a função remove()\n",
        "\n",
        "conjunto_A.remove(5)\n",
        "conjunto_A.remove(6)\n",
        "print(\"Conjunto após a remoção com a função remove(): \")\n",
        "print(conjunto_A)"
      ],
      "execution_count": 27,
      "outputs": [
        {
          "output_type": "stream",
          "text": [
            "Conjunto após a remoção com a função remove(): \n",
            "{1, 2, 3, 4, 7, 8, 9, 10, 11, 12}\n"
          ],
          "name": "stdout"
        }
      ]
    },
    {
      "cell_type": "code",
      "metadata": {
        "id": "TRswNudTJ3tH",
        "colab_type": "code",
        "colab": {
          "base_uri": "https://localhost:8080/",
          "height": 51
        },
        "outputId": "a3bf9cfb-dffe-4f02-db1e-04e9a728db2d"
      },
      "source": [
        "# Removendo com o método discard()\n",
        "\n",
        "conjunto_A.discard(8)\n",
        "conjunto_A.discard(9)\n",
        "print(\"Conjunto após a remoção com a função remove(): \")\n",
        "print(conjunto_A)"
      ],
      "execution_count": 28,
      "outputs": [
        {
          "output_type": "stream",
          "text": [
            "Conjunto após a remoção com a função remove(): \n",
            "{1, 2, 3, 4, 7, 10, 11, 12}\n"
          ],
          "name": "stdout"
        }
      ]
    },
    {
      "cell_type": "code",
      "metadata": {
        "id": "neDW33laKO1H",
        "colab_type": "code",
        "colab": {
          "base_uri": "https://localhost:8080/",
          "height": 51
        },
        "outputId": "3b40df99-a00a-4e23-ef1f-d82c5b7f057a"
      },
      "source": [
        "# Removendo elementos de um conjunto com o método pop()\n",
        "\n",
        "conjunto_A.pop()\n",
        "print(\"Removendo elemento com pop(): \")\n",
        "print(conjunto_A)"
      ],
      "execution_count": 29,
      "outputs": [
        {
          "output_type": "stream",
          "text": [
            "Removendo elemento com pop(): \n",
            "{2, 3, 4, 7, 10, 11, 12}\n"
          ],
          "name": "stdout"
        }
      ]
    },
    {
      "cell_type": "code",
      "metadata": {
        "id": "gptBKY7uOg7D",
        "colab_type": "code",
        "colab": {
          "base_uri": "https://localhost:8080/",
          "height": 51
        },
        "outputId": "6f60bfdc-7cea-4d7f-aca2-00cb9504f498"
      },
      "source": [
        "# Limpando o conjunto com o clear\n",
        "\n",
        "conjunto_A.clear()\n",
        "print(\"Removendo todos os elementos do conjunto com clear(): \")\n",
        "print(conjunto_A)"
      ],
      "execution_count": 30,
      "outputs": [
        {
          "output_type": "stream",
          "text": [
            "Removendo todos os elementos do conjunto com clear(): \n",
            "set()\n"
          ],
          "name": "stdout"
        }
      ]
    },
    {
      "cell_type": "markdown",
      "metadata": {
        "id": "EnF6ExU2ms0M",
        "colab_type": "text"
      },
      "source": [
        "Operações com conjuntos\n",
        "\n",
        "A                   B                      A                    B\n",
        "     União                                     Interseção\n",
        "\n",
        "                                                                    A = {1,2,3}\n",
        "                                                                    B = {3,4,5}\n",
        "\n",
        "A                   B                      A                    B\n",
        "     Diferença                               Diferença Simétrica"
      ]
    },
    {
      "cell_type": "code",
      "metadata": {
        "id": "In9_22MKnPo5",
        "colab_type": "code",
        "colab": {
          "base_uri": "https://localhost:8080/",
          "height": 51
        },
        "outputId": "842ea979-2797-49c0-aac2-4149baaf8d21"
      },
      "source": [
        "# Definindo os conjunto\n",
        "\n",
        "conjunto_A = set([1, 2, 3])\n",
        "conjunto_B = set([3, 4, 5])\n",
        "print('Conjunto A: ', conjunto_A)\n",
        "print('Conjunto B: ', conjunto_B)"
      ],
      "execution_count": 32,
      "outputs": [
        {
          "output_type": "stream",
          "text": [
            "Conjunto A:  {1, 2, 3}\n",
            "Conjunto B:  {3, 4, 5}\n"
          ],
          "name": "stdout"
        }
      ]
    },
    {
      "cell_type": "code",
      "metadata": {
        "id": "7KJAr9QFn1Gc",
        "colab_type": "code",
        "colab": {
          "base_uri": "https://localhost:8080/",
          "height": 34
        },
        "outputId": "0f484a7f-552e-4917-e37b-6b01ca67563a"
      },
      "source": [
        "# União\n",
        "\n",
        "uniao = conjunto_A.union(conjunto_B)\n",
        "print('Interseção A e B: ', uniao)"
      ],
      "execution_count": 34,
      "outputs": [
        {
          "output_type": "stream",
          "text": [
            "Interseção A e B:  {1, 2, 3, 4, 5}\n"
          ],
          "name": "stdout"
        }
      ]
    },
    {
      "cell_type": "code",
      "metadata": {
        "id": "TMAzsTmOoKFT",
        "colab_type": "code",
        "colab": {
          "base_uri": "https://localhost:8080/",
          "height": 34
        },
        "outputId": "5e536ab4-3361-4990-9869-c1e3e81f94cd"
      },
      "source": [
        "# Interseção\n",
        "\n",
        "intersecao = conjunto_A.intersection(conjunto_B)\n",
        "print('Interseção A e B: ', intersecao)"
      ],
      "execution_count": 35,
      "outputs": [
        {
          "output_type": "stream",
          "text": [
            "Interseção A e B:  {3}\n"
          ],
          "name": "stdout"
        }
      ]
    },
    {
      "cell_type": "code",
      "metadata": {
        "id": "tRyEz2zroRGy",
        "colab_type": "code",
        "colab": {
          "base_uri": "https://localhost:8080/",
          "height": 34
        },
        "outputId": "3a7b9b1e-7b97-4605-d97a-d3b46a76d624"
      },
      "source": [
        "# Diferença\n",
        "\n",
        "diferenca = conjunto_A.difference(conjunto_B)\n",
        "print('Interseção A e B: ', diferenca)"
      ],
      "execution_count": 36,
      "outputs": [
        {
          "output_type": "stream",
          "text": [
            "Interseção A e B:  {1, 2}\n"
          ],
          "name": "stdout"
        }
      ]
    },
    {
      "cell_type": "code",
      "metadata": {
        "id": "RcQc3AvWqSFo",
        "colab_type": "code",
        "colab": {
          "base_uri": "https://localhost:8080/",
          "height": 34
        },
        "outputId": "a019031f-d897-4fd6-90a9-7302fe8508bd"
      },
      "source": [
        "# Diferença simétrica\n",
        "\n",
        "diferenca_simetrica = conjunto_A.symmetric_difference(conjunto_B)\n",
        "print('Diferença simétrica entre A e B: ', diferenca_simetrica)"
      ],
      "execution_count": 37,
      "outputs": [
        {
          "output_type": "stream",
          "text": [
            "Diferença simétrica entre A e B:  {1, 2, 4, 5}\n"
          ],
          "name": "stdout"
        }
      ]
    },
    {
      "cell_type": "markdown",
      "metadata": {
        "id": "ZjT7bWk9qtcu",
        "colab_type": "text"
      },
      "source": [
        "Dicionários\n",
        "\n",
        "\n",
        "Chave                               Valor\n",
        "\n",
        "'a'-------------------------------> 'Azul'\n",
        "\n",
        "'v'-------------------------------> 'Verde'\n",
        "\n",
        "'r'-------------------------------> 'Rosa'\n",
        "\n",
        "1. Não ordenado\n",
        "2. Armazena o par chave:valor\n",
        "3. As chaves não podem ser repetidas\n",
        "4. Podem armazenar vários tipos de valores"
      ]
    },
    {
      "cell_type": "code",
      "metadata": {
        "id": "GuJFwSe4te_X",
        "colab_type": "code",
        "colab": {
          "base_uri": "https://localhost:8080/",
          "height": 68
        },
        "outputId": "2e13439b-57d7-423e-d242-12bd30174a06"
      },
      "source": [
        "# Criando um dicionário vazio\n",
        "\n",
        "dicionario = {}\n",
        "print(\"Dicionário vazio: \")\n",
        "print(dicionario)\n",
        "print(type(dicionario))"
      ],
      "execution_count": 39,
      "outputs": [
        {
          "output_type": "stream",
          "text": [
            "Dicionário vazio: \n",
            "{}\n",
            "<class 'dict'>\n"
          ],
          "name": "stdout"
        }
      ]
    },
    {
      "cell_type": "code",
      "metadata": {
        "id": "eMdFKYjZt0BV",
        "colab_type": "code",
        "colab": {
          "base_uri": "https://localhost:8080/",
          "height": 51
        },
        "outputId": "201e32ca-f830-49de-b431-859eda7826db"
      },
      "source": [
        "# Criando um dicionário com chaves inteiras\n",
        "\n",
        "dicionario = {1: 'IGTI', 2: 'BOOTCAMP', 3: 'IGTI'}\n",
        "print(\"Dicionário com chaves inteiras: \")\n",
        "print(dicionario)"
      ],
      "execution_count": 40,
      "outputs": [
        {
          "output_type": "stream",
          "text": [
            "Dicionário com chaves inteiras: \n",
            "{1: 'IGTI', 2: 'BOOTCAMP', 3: 'IGTI'}\n"
          ],
          "name": "stdout"
        }
      ]
    },
    {
      "cell_type": "code",
      "metadata": {
        "id": "aSqcFQWTurHd",
        "colab_type": "code",
        "colab": {
          "base_uri": "https://localhost:8080/",
          "height": 51
        },
        "outputId": "854f48e4-4697-4e2c-fe57-f80a81acff51"
      },
      "source": [
        "# Criando dicionário com vários tipos de chaves e valores\n",
        "\n",
        "dicionario = {'escola': 'IGTI', 1: [1, 2, 3, 4]}\n",
        "print(\"Dicionário com diferentes tipos de chaves e valores: \")\n",
        "print(dicionario)"
      ],
      "execution_count": 41,
      "outputs": [
        {
          "output_type": "stream",
          "text": [
            "Dicionário com diferentes tipos de chaves e valores: \n",
            "{'escola': 'IGTI', 1: [1, 2, 3, 4]}\n"
          ],
          "name": "stdout"
        }
      ]
    },
    {
      "cell_type": "code",
      "metadata": {
        "id": "Sebr-McBvgWl",
        "colab_type": "code",
        "colab": {
          "base_uri": "https://localhost:8080/",
          "height": 51
        },
        "outputId": "04eddf63-c46c-4410-f4a2-285f1acd814f"
      },
      "source": [
        "# Criando dicionarios com o dict\n",
        "\n",
        "dicionario = dict({1: 'IGTI', 2: 'BOOTCAMP', 3: 'IGTI'})\n",
        "print(\"Criando dicionário com o método dict(): \")\n",
        "print(dicionario)"
      ],
      "execution_count": 42,
      "outputs": [
        {
          "output_type": "stream",
          "text": [
            "Criando dicionário com o método dict(): \n",
            "{1: 'IGTI', 2: 'BOOTCAMP', 3: 'IGTI'}\n"
          ],
          "name": "stdout"
        }
      ]
    },
    {
      "cell_type": "code",
      "metadata": {
        "id": "uFeP1pJBv9mM",
        "colab_type": "code",
        "colab": {
          "base_uri": "https://localhost:8080/",
          "height": 51
        },
        "outputId": "7159bc32-eb77-403c-e65e-c33f80a035c6"
      },
      "source": [
        "# Criando dicionário com estilo (chave, valor)\n",
        "\n",
        "dicionario = dict([(1, 'IGTI'), (2, 'BOOTCAMP')])\n",
        "print(\"Criando dicionário com 'par' de dados: \")\n",
        "print(dicionario)"
      ],
      "execution_count": 43,
      "outputs": [
        {
          "output_type": "stream",
          "text": [
            "Criando dicionário com 'par' de dados: \n",
            "{1: 'IGTI', 2: 'BOOTCAMP'}\n"
          ],
          "name": "stdout"
        }
      ]
    },
    {
      "cell_type": "markdown",
      "metadata": {
        "id": "NZ6ac46GwdCj",
        "colab_type": "text"
      },
      "source": [
        "Adicionando elementos a um dicionário"
      ]
    },
    {
      "cell_type": "code",
      "metadata": {
        "id": "WfgStfSzwpU_",
        "colab_type": "code",
        "colab": {
          "base_uri": "https://localhost:8080/",
          "height": 51
        },
        "outputId": "6a753e62-642a-495b-a9d7-f65f3a68f893"
      },
      "source": [
        "# Criando um dicionário vazio\n",
        "\n",
        "dicionario = {}\n",
        "print(\"Dicionário vazio: \")\n",
        "print(dicionario)"
      ],
      "execution_count": 44,
      "outputs": [
        {
          "output_type": "stream",
          "text": [
            "Dicionário vazio: \n",
            "{}\n"
          ],
          "name": "stdout"
        }
      ]
    },
    {
      "cell_type": "code",
      "metadata": {
        "id": "dMFBAjdrw4Ks",
        "colab_type": "code",
        "colab": {
          "base_uri": "https://localhost:8080/",
          "height": 51
        },
        "outputId": "9de88b1d-16c6-4bd2-a39d-f8b936df58e7"
      },
      "source": [
        "# Adicionando um elemento de cada vez\n",
        "\n",
        "dicionario[0] = 'IGTI'\n",
        "dicionario[2] = 'BOOTCAMP'\n",
        "dicionario[3] = 1\n",
        "print(\"Adicionando 3 elementos a um dicionário: \")\n",
        "print(dicionario)"
      ],
      "execution_count": 45,
      "outputs": [
        {
          "output_type": "stream",
          "text": [
            "Adicionando 3 elementos a um dicionário: \n",
            "{0: 'IGTI', 2: 'BOOTCAMP', 3: 1}\n"
          ],
          "name": "stdout"
        }
      ]
    },
    {
      "cell_type": "code",
      "metadata": {
        "id": "K_n1mQ8YxSOl",
        "colab_type": "code",
        "colab": {
          "base_uri": "https://localhost:8080/",
          "height": 51
        },
        "outputId": "47c9b2bf-f0c1-48ff-a2f0-074725e57bfe"
      },
      "source": [
        "# Realizando a atualização de um elemento em um dicionário\n",
        "\n",
        "dicionario[2] = 'MBA'\n",
        "print(\"Atualizando o valor com chave [2] no dicionário: \")\n",
        "print(dicionario) "
      ],
      "execution_count": 46,
      "outputs": [
        {
          "output_type": "stream",
          "text": [
            "Atualizando o valor com chave [2] no dicionário: \n",
            "{0: 'IGTI', 2: 'MBA', 3: 1}\n"
          ],
          "name": "stdout"
        }
      ]
    },
    {
      "cell_type": "markdown",
      "metadata": {
        "id": "sk0g3zHYx3CF",
        "colab_type": "text"
      },
      "source": [
        "Acessando elementos em um dicionário"
      ]
    },
    {
      "cell_type": "code",
      "metadata": {
        "id": "iN5WI7gLx6lU",
        "colab_type": "code",
        "colab": {}
      },
      "source": [
        "# Criando um dicionário\n",
        "\n",
        "dicionario = {'a': 'Azul', 'v': 'Verde', 'r': 'Rosa'}"
      ],
      "execution_count": 47,
      "outputs": []
    },
    {
      "cell_type": "code",
      "metadata": {
        "id": "8Z4uoq-9yOXE",
        "colab_type": "code",
        "colab": {
          "base_uri": "https://localhost:8080/",
          "height": 51
        },
        "outputId": "d2bb03d9-f347-4fcf-f975-8359c4d087ad"
      },
      "source": [
        "# Acessando um elemento através da chave\n",
        "\n",
        "print(\"Acessando um elemento através da chave: \")\n",
        "print(dicionario['a'])"
      ],
      "execution_count": 48,
      "outputs": [
        {
          "output_type": "stream",
          "text": [
            "Acessando um elemento através da chave: \n",
            "Azul\n"
          ],
          "name": "stdout"
        }
      ]
    },
    {
      "cell_type": "code",
      "metadata": {
        "id": "62hdTFiVysAg",
        "colab_type": "code",
        "colab": {
          "base_uri": "https://localhost:8080/",
          "height": 51
        },
        "outputId": "90de7787-6246-4f07-8870-c4dc9e774531"
      },
      "source": [
        "# Acesando um elemento através do método get()\n",
        "\n",
        "print(\"Acessando um elemento através do get: \")\n",
        "print(dicionario.get('v'))"
      ],
      "execution_count": 49,
      "outputs": [
        {
          "output_type": "stream",
          "text": [
            "Acessando um elemento através do get: \n",
            "Verde\n"
          ],
          "name": "stdout"
        }
      ]
    },
    {
      "cell_type": "markdown",
      "metadata": {
        "id": "xiTYr95Iy9_T",
        "colab_type": "text"
      },
      "source": [
        "Removendo um elemento de um dicionário"
      ]
    },
    {
      "cell_type": "code",
      "metadata": {
        "id": "Xb_6OgFFy841",
        "colab_type": "code",
        "colab": {
          "base_uri": "https://localhost:8080/",
          "height": 51
        },
        "outputId": "0d86a395-a2df-4d09-aa5d-64040e42e876"
      },
      "source": [
        "# Initial Dictionary\n",
        "\n",
        "dicionario = { 1 : 'IGTI', 2 : 'BOOTCAMP', 3 : 'MBA',\n",
        "              'brasil' : {'v' : 'Verde', 'a' : 'Azul', 'am' : 'Amarelo'},\n",
        "              'minas' : {'vm' : 'vermelha', 'b' : 'Branca'}}\n",
        "\n",
        "print(\"Dicionário inicial: \")\n",
        "print(dicionario)"
      ],
      "execution_count": 50,
      "outputs": [
        {
          "output_type": "stream",
          "text": [
            "Dicionário inicial: \n",
            "{1: 'IGTI', 2: 'BOOTCAMP', 3: 'MBA', 'brasil': {'v': 'Verde', 'a': 'Azul', 'am': 'Amarelo'}, 'minas': {'vm': 'vermelha', 'b': 'Branca'}}\n"
          ],
          "name": "stdout"
        }
      ]
    },
    {
      "cell_type": "code",
      "metadata": {
        "id": "VgQRGe6Jz-Sb",
        "colab_type": "code",
        "colab": {
          "base_uri": "https://localhost:8080/",
          "height": 51
        },
        "outputId": "dbc7c523-0568-40f2-b1d9-dda380ea0c0d"
      },
      "source": [
        "# Deletando um valor pela chave\n",
        "\n",
        "del dicionario[3]\n",
        "print(\"Deletando um elemento via chave: \")\n",
        "print(dicionario)"
      ],
      "execution_count": 51,
      "outputs": [
        {
          "output_type": "stream",
          "text": [
            "Deletando um elemento via chave: \n",
            "{1: 'IGTI', 2: 'BOOTCAMP', 'brasil': {'v': 'Verde', 'a': 'Azul', 'am': 'Amarelo'}, 'minas': {'vm': 'vermelha', 'b': 'Branca'}}\n"
          ],
          "name": "stdout"
        }
      ]
    },
    {
      "cell_type": "code",
      "metadata": {
        "id": "-NJs862k0P--",
        "colab_type": "code",
        "colab": {
          "base_uri": "https://localhost:8080/",
          "height": 51
        },
        "outputId": "c2a87c84-1f51-4be0-ed54-cc39d91a3aaa"
      },
      "source": [
        "# Deletando uma chave com pop()\n",
        "\n",
        "dicionario.pop(2)\n",
        "print(\"Eliminando uma chave com pop(): \")\n",
        "print(dicionario)"
      ],
      "execution_count": 52,
      "outputs": [
        {
          "output_type": "stream",
          "text": [
            "Eliminando uma chave com pop(): \n",
            "{1: 'IGTI', 'brasil': {'v': 'Verde', 'a': 'Azul', 'am': 'Amarelo'}, 'minas': {'vm': 'vermelha', 'b': 'Branca'}}\n"
          ],
          "name": "stdout"
        }
      ]
    },
    {
      "cell_type": "code",
      "metadata": {
        "id": "nMsG1agX0s_P",
        "colab_type": "code",
        "colab": {
          "base_uri": "https://localhost:8080/",
          "height": 51
        },
        "outputId": "41398043-2b0e-4e5d-cbf0-ed5f1a902f24"
      },
      "source": [
        "# Deletando um item arbitrário\n",
        "\n",
        "dicionario.popitem()\n",
        "print(\"Deletando um valor arbitrário: \")\n",
        "print(dicionario)"
      ],
      "execution_count": 53,
      "outputs": [
        {
          "output_type": "stream",
          "text": [
            "Deletando um valor arbitrário: \n",
            "{1: 'IGTI', 'brasil': {'v': 'Verde', 'a': 'Azul', 'am': 'Amarelo'}}\n"
          ],
          "name": "stdout"
        }
      ]
    },
    {
      "cell_type": "code",
      "metadata": {
        "id": "kUt38rIZ09OU",
        "colab_type": "code",
        "colab": {
          "base_uri": "https://localhost:8080/",
          "height": 51
        },
        "outputId": "3f272716-8fa8-4858-a599-e536eacf351d"
      },
      "source": [
        "# Deletando um dicionário inteiro\n",
        "\n",
        "dicionario.clear()\n",
        "print(\"Deletando todo o dicionário: \")\n",
        "print(dicionario)"
      ],
      "execution_count": 54,
      "outputs": [
        {
          "output_type": "stream",
          "text": [
            "Deletando todo o dicionário: \n",
            "{}\n"
          ],
          "name": "stdout"
        }
      ]
    },
    {
      "cell_type": "markdown",
      "metadata": {
        "id": "EEVSIVjX1UTW",
        "colab_type": "text"
      },
      "source": [
        "Comando de entrada de dados"
      ]
    },
    {
      "cell_type": "code",
      "metadata": {
        "id": "Ci80vkd01ZNy",
        "colab_type": "code",
        "colab": {
          "base_uri": "https://localhost:8080/",
          "height": 51
        },
        "outputId": "70f5bf1c-966a-4f00-e848-b8ccaf431a2d"
      },
      "source": [
        "nome = input(\"Entre com seu nome: \")\n",
        "print(\"Meu nome é: \", nome)"
      ],
      "execution_count": 55,
      "outputs": [
        {
          "output_type": "stream",
          "text": [
            "Entre com seu nome: Petrônio\n",
            "Meu nome é:  Petrônio\n"
          ],
          "name": "stdout"
        }
      ]
    },
    {
      "cell_type": "code",
      "metadata": {
        "id": "B8cAwBJL1pas",
        "colab_type": "code",
        "colab": {
          "base_uri": "https://localhost:8080/",
          "height": 34
        },
        "outputId": "c039d97c-30f2-43e8-b7b1-59e5685a705f"
      },
      "source": [
        "# Tipo de dados armazenados\n",
        "\n",
        "type(nome)"
      ],
      "execution_count": 56,
      "outputs": [
        {
          "output_type": "execute_result",
          "data": {
            "text/plain": [
              "str"
            ]
          },
          "metadata": {
            "tags": []
          },
          "execution_count": 56
        }
      ]
    },
    {
      "cell_type": "code",
      "metadata": {
        "id": "HaQn0tHD1wmC",
        "colab_type": "code",
        "colab": {
          "base_uri": "https://localhost:8080/",
          "height": 51
        },
        "outputId": "0b229318-4e3b-4429-9055-c143faf26da0"
      },
      "source": [
        "idade = input(\"Entre com sua idade: \")\n",
        "print(\"Sua idade é: \", idade, \"anos\")"
      ],
      "execution_count": 58,
      "outputs": [
        {
          "output_type": "stream",
          "text": [
            "Entre com sua idade: 38\n",
            "Sua idade é:  38 anos\n"
          ],
          "name": "stdout"
        }
      ]
    },
    {
      "cell_type": "code",
      "metadata": {
        "id": "xiRlPlyL2GW8",
        "colab_type": "code",
        "colab": {
          "base_uri": "https://localhost:8080/",
          "height": 34
        },
        "outputId": "9aff9a0e-970c-4abd-f083-21accebf6896"
      },
      "source": [
        "type(idade)"
      ],
      "execution_count": 59,
      "outputs": [
        {
          "output_type": "execute_result",
          "data": {
            "text/plain": [
              "str"
            ]
          },
          "metadata": {
            "tags": []
          },
          "execution_count": 59
        }
      ]
    },
    {
      "cell_type": "markdown",
      "metadata": {
        "id": "uysGafLR2Uhb",
        "colab_type": "text"
      },
      "source": [
        "Formatando as saídas"
      ]
    },
    {
      "cell_type": "code",
      "metadata": {
        "id": "PzmqbWoo2XrM",
        "colab_type": "code",
        "colab": {
          "base_uri": "https://localhost:8080/",
          "height": 51
        },
        "outputId": "827a494b-9052-4214-d322-db509f184c0b"
      },
      "source": [
        "# Realizando a entrada de dados\n",
        "\n",
        "base = float(input('Entre com um valor para a base: '))\n",
        "expoente = float(input('Entre com um valor para ser o expoente: '))\n",
        "resultado = base ** expoente"
      ],
      "execution_count": 60,
      "outputs": [
        {
          "output_type": "stream",
          "text": [
            "Entre com um valor para a base: 10\n",
            "Entre com um valor para ser o expoente: 2\n"
          ],
          "name": "stdout"
        }
      ]
    },
    {
      "cell_type": "code",
      "metadata": {
        "id": "bgrnTyOB2zEO",
        "colab_type": "code",
        "colab": {
          "base_uri": "https://localhost:8080/",
          "height": 34
        },
        "outputId": "33807757-5998-40f1-b36b-bf7f800f14b2"
      },
      "source": [
        "print(str(base)+\"^\"+str(expoente),\"=\",resultado)"
      ],
      "execution_count": 61,
      "outputs": [
        {
          "output_type": "stream",
          "text": [
            "10.0^2.0 = 100.0\n"
          ],
          "name": "stdout"
        }
      ]
    },
    {
      "cell_type": "code",
      "metadata": {
        "id": "-Yweb-Dp3DTr",
        "colab_type": "code",
        "colab": {
          "base_uri": "https://localhost:8080/",
          "height": 34
        },
        "outputId": "f1604f75-a29d-473f-ae88-2aaebb082322"
      },
      "source": [
        "print(\"%1.2f ^%1.2f = %1.4f \" %(base, expoente, resultado ))"
      ],
      "execution_count": 62,
      "outputs": [
        {
          "output_type": "stream",
          "text": [
            "10.00 ^2.00 = 100.0000 \n"
          ],
          "name": "stdout"
        }
      ]
    },
    {
      "cell_type": "code",
      "metadata": {
        "id": "sW6D3cTk3lKL",
        "colab_type": "code",
        "colab": {
          "base_uri": "https://localhost:8080/",
          "height": 34
        },
        "outputId": "2a76d71e-6d42-487a-88b3-4884636b97e7"
      },
      "source": [
        "print(\" %2d, %2x, %3o, %2.2f, %2.2e \" %(100, 100, 100, 11.1245, 11.24567 ))"
      ],
      "execution_count": 63,
      "outputs": [
        {
          "output_type": "stream",
          "text": [
            " 100, 64, 144, 11.12, 1.12e+01 \n"
          ],
          "name": "stdout"
        }
      ]
    }
  ]
}